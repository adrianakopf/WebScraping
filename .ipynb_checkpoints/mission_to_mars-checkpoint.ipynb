{
 "cells": [
  {
   "cell_type": "markdown",
   "metadata": {},
   "source": [
    "# Step 1 - Scraping\n",
    "1- Go to NASA Mars News Site (https://mars.nasa.gov/news/) and collect the latest News Title and Paragraph Text. \n",
    "Assign the text to variables that you can reference later.\n",
    "\n",
    "2- JPL Mars Space Images - Featured Image\n",
    "Visit the url for JPL Featured Space Image (https://www.jpl.nasa.gov/spaceimages/?search=&category=Mars). Use splinter to navigate the site and find the image url for the current Featured Mars Image and assign the url string to a variable called featured_image_url. \n",
    "Make sure to find the image url to the full size .jpg image. \n",
    "Make sure to save a complete url string for this image.\n",
    "\n",
    "3-Mars Weather Visit the Mars Weather twitter account (https://twitter.com/marswxreport?lang=en) and scrape the latest Mars weather tweet from the page. \n",
    "Save the tweet text for the weather report as a variable called mars_weather.\n",
    "\n",
    "4-Mars Facts Visit the Mars Facts webpage (https://space-facts.com/mars/) and use Pandas to scrape the table containing facts about the planet including Diameter, Mass, etc. \n",
    "Use Pandas to convert the data to a HTML table string.\n",
    "\n",
    "5-Mars Hemispheres Visit the USGS Astrogeology site (https://astrogeology.usgs.gov/search/results?q=hemisphere+enhanced&k1=target&v1=Mars) to obtain high resolution images for each of Mar's hemispheres. \n",
    "You will need to click each of the links to the hemispheres in order to find the image url to the full resolution image.\n",
    "Save both the image url string for the full resolution hemisphere image, and the Hemisphere title containing the hemisphere name. \n",
    "Use a Python dictionary to store the data using the keys img_url and title. \n",
    "Append the dictionary with the image url string and the hemisphere title to a list. \n",
    "This list will contain one dictionary for each hemisphere."
   ]
  },
  {
   "cell_type": "code",
   "execution_count": 5,
   "metadata": {},
   "outputs": [],
   "source": [
    "from bs4 import BeautifulSoup as bs\n",
    "from splinter import Browser\n",
    "import pandas as pd\n",
    "import time \n",
    "import requests\n",
    "import pprint"
   ]
  },
  {
   "cell_type": "code",
   "execution_count": 6,
   "metadata": {},
   "outputs": [
    {
     "name": "stdout",
     "output_type": "stream",
     "text": [
      "InSight Lands Praise and a Proclamation from LA County\n",
      "Several members of the Mars InSight team accepted a proclamation on behalf of the mission from L.A. County Board of Supervisors on Tuesday, Feb. 19.\n"
     ]
    }
   ],
   "source": [
    "#1 Nasa news *** USING BROWSER = SPLINTER ***\n",
    "browser = Browser('chrome')\n",
    "url = \"https://mars.nasa.gov/news/\"\n",
    "#go to url\n",
    "browser.visit(url)\n",
    "# HTML object\n",
    "html = browser.html\n",
    "# Parse HTML with BeautifulSoup\n",
    "soup = bs(html, \"html.parser\")\n",
    "# Collect News Title and Paragraph\n",
    "news_title = soup.find(\"div\", class_ = \"content_title\").text.strip()\n",
    "print(news_title)\n",
    "news_p = soup.find('div', class_=\"article_teaser_body\").text\n",
    "print(news_p)\n",
    "# Close the browser after scraping\n",
    "browser.quit()\n"
   ]
  },
  {
   "cell_type": "code",
   "execution_count": null,
   "metadata": {},
   "outputs": [],
   "source": [
    "#2- JPL Mars Space Images - Featured Image *** USING BROWSER = SPLINTER ***\n",
    "browser = Browser('chrome')\n",
    "jpl_url = \"https://www.jpl.nasa.gov/spaceimages/?search=&category=Mars)\"\n",
    "#go to url\n",
    "browser.visit(jpl_url)\n",
    "#navigate to link\n",
    "browser.click_link_by_partial_text('FULL IMAGE')\n",
    "time.sleep(2)\n",
    "browser.click_link_by_partial_text('more info')\n",
    "image_html = browser.html\n",
    "jpl_soup = bs(image_html, \"html.parser\")\n",
    "\n",
    "image_path = jpl_soup.find('figure', class_='lede').a['href']\n",
    "featured_image_url = \"https://www.jpl.nasa.gov/\" + image_path\n",
    "print(featured_image_url)\n",
    "# Close the browser after scraping\n",
    "browser.quit()\n"
   ]
  },
  {
   "cell_type": "code",
   "execution_count": null,
   "metadata": {},
   "outputs": [],
   "source": [
    "#3- Mars Weather *** USING BROWSER = SPLINTER ***\n",
    "browser = Browser('chrome')\n",
    "url = 'https://twitter.com/marswxreport?lang=en'\n",
    "browser.visit(url)\n",
    "html = browser.html\n",
    "weather_soup = bs(html, 'html.parser')\n",
    "mars_weather = weather_soup.find(\"p\", class_ = \"TweetTextSize TweetTextSize--normal js-tweet-text tweet-text\").text.strip()\n",
    "print(mars_weather)\n",
    "# Close the browser after scraping\n",
    "browser.quit()"
   ]
  },
  {
   "cell_type": "code",
   "execution_count": null,
   "metadata": {},
   "outputs": [],
   "source": [
    "#4 Mars Facts\n",
    "#Using Pandas to scrape the table (read_html)\n",
    "url = \"http://space-facts.com/mars/\"\n",
    "table = pd.read_html(url)\n",
    "print(table)"
   ]
  },
  {
   "cell_type": "code",
   "execution_count": null,
   "metadata": {},
   "outputs": [],
   "source": [
    "#Putting the info into Pandas DataFrame\n",
    "mars_facts = table[0]\n",
    "mars_facts.columns = [\"\", \"\"]\n",
    "mars_facts"
   ]
  },
  {
   "cell_type": "code",
   "execution_count": null,
   "metadata": {},
   "outputs": [],
   "source": [
    "#Using Pandas to convert the data to HTML (to_html)\n",
    "facts_table = mars_facts.to_html()\n",
    "mars_facts_table = facts_table.replace(\"\\n\", \"\")\n",
    "mars_facts_table"
   ]
  },
  {
   "cell_type": "code",
   "execution_count": null,
   "metadata": {},
   "outputs": [],
   "source": [
    "#5-Mars Hemispheres\n",
    "#create list/dics\n",
    "hemisphere_img_urls = []\n",
    "hemisphere_dicts = {\"title\": [] , \"img_url\": []}\n",
    "# url\n",
    "url = \"https://astrogeology.usgs.gov/search/results?q=hemisphere+enhanced&k1=target&v1=Mars\"\n",
    "browser = Browser(\"chrome\")\n",
    "browser.visit(url)\n",
    "home_page = browser.html"
   ]
  },
  {
   "cell_type": "code",
   "execution_count": null,
   "metadata": {},
   "outputs": [],
   "source": [
    "#HTML & Parsing\n",
    "hemispheres_soup = bs(home_page, \"html.parser\")\n",
    "results = hemispheres_soup.find_all(\"h3\")\n",
    "# Use loop \n",
    "for result in results:\n",
    "    title = result.text\n",
    "    print(title)\n",
    "    #title without word \"Enhanced\"\n",
    "    title = title[:-9]\n",
    "    print(title)\n",
    "    browser.click_link_by_partial_text(title)\n",
    "    time.sleep(1)\n",
    "    img_url = browser.find_link_by_partial_href(\"download\")[\"href\"]\n",
    "    print(img_url)\n",
    "    hemisphere_dicts = {\"title\": title, \"img_url\": img_url}\n",
    "    hemisphere_img_urls.append(hemisphere_dicts)\n",
    "    time.sleep(1)\n",
    "    browser.visit(url)\n",
    "# Close the browser after scraping\n",
    "browser.quit()"
   ]
  },
  {
   "cell_type": "code",
   "execution_count": null,
   "metadata": {},
   "outputs": [],
   "source": [
    "pprint.pprint(hemisphere_img_urls)"
   ]
  },
  {
   "cell_type": "markdown",
   "metadata": {},
   "source": [
    "# Step 2 - MongoDB and Flask Application\n",
    "Use MongoDB with Flask templating to create a new HTML page that displays all of the information that was scraped from the URLs above.\n",
    "\n",
    "1- Start by converting your Jupyter notebook into a Python script called scrape_mars.py with a function called scrape that will execute all of your scraping code from above and return one Python dictionary containing all of the scraped data.\n",
    "\n",
    "2- Next, create a route called /scrape that will import your scrape_mars.py script and call your scrape function.\n",
    "\n",
    "3- Store the return value in Mongo as a Python dictionary.\n",
    "Create a root route / that will query your Mongo database and pass the mars data into an HTML template to display the data.\n",
    "\n",
    "4- Create a template HTML file called index.html that will take the mars data dictionary and display all of the data in the appropriate HTML elements. Use the following as a guide for what the final product should look like, but feel free to create your own design."
   ]
  },
  {
   "cell_type": "code",
   "execution_count": null,
   "metadata": {},
   "outputs": [],
   "source": []
  }
 ],
 "metadata": {
  "kernelspec": {
   "display_name": "Python 2",
   "language": "python",
   "name": "python2"
  },
  "language_info": {
   "codemirror_mode": {
    "name": "ipython",
    "version": 2
   },
   "file_extension": ".py",
   "mimetype": "text/x-python",
   "name": "python",
   "nbconvert_exporter": "python",
   "pygments_lexer": "ipython2",
   "version": "2.7.15"
  }
 },
 "nbformat": 4,
 "nbformat_minor": 2
}
